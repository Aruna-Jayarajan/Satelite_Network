{
  "cells": [
    {
      "cell_type": "markdown",
      "metadata": {
        "id": "view-in-github",
        "colab_type": "text"
      },
      "source": [
        "<a href=\"https://colab.research.google.com/github/Aruna-Jayarajan/Satelite_Network/blob/main/GNN_1.ipynb\" target=\"_parent\"><img src=\"https://colab.research.google.com/assets/colab-badge.svg\" alt=\"Open In Colab\"/></a>"
      ]
    },
    {
      "cell_type": "code",
      "execution_count": null,
      "metadata": {
        "id": "BC_E-gNgFerx",
        "outputId": "9a4ea263-ff3c-4761-96b4-55aa4220d3e5"
      },
      "outputs": [
        {
          "name": "stderr",
          "output_type": "stream",
          "text": [
            "WARNING:absl:Compiled the loaded model, but the compiled metrics have yet to be built. `model.compile_metrics` will be empty until you train or evaluate the model.\n"
          ]
        }
      ],
      "source": [
        "import sys\n",
        "import os\n",
        "\n",
        "# Add `src/` directory to module search path\n",
        "sys.path.append(os.path.join(os.getcwd(), 'src'))\n",
        "\n",
        "# Now import project modules\n",
        "from dataloader import SatelliteDataset, NUM_GATEWAYS\n",
        "from model import Stage2GNN\n",
        "from train import train_model_with_mse\n",
        "from utils import plot_metrics\n"
      ]
    },
    {
      "cell_type": "code",
      "execution_count": null,
      "metadata": {
        "id": "6fY7ln-NFer2",
        "outputId": "72841c4e-f713-4d6b-d8bd-50c7b37026e9"
      },
      "outputs": [
        {
          "name": "stdout",
          "output_type": "stream",
          "text": [
            "Loaded 8 training files and 2 validation files.\n"
          ]
        }
      ],
      "source": [
        "from torch_geometric.loader import DataLoader as PyGDataLoader\n",
        "\n",
        "DATA_FOLDER = r\"C:\\Users\\aruna\\Desktop\\MS Thesis\\Real Data\\Final folder real data\"\n",
        "file_list = sorted([os.path.join(DATA_FOLDER, f) for f in os.listdir(DATA_FOLDER) if f.endswith('.csv')])[:10]\n",
        "\n",
        "train_size = int(0.8 * len(file_list))\n",
        "train_files, val_files = file_list[:train_size], file_list[train_size:]\n",
        "\n",
        "train_dataset = SatelliteDataset(train_files)\n",
        "val_dataset = SatelliteDataset(val_files)\n",
        "\n",
        "train_loader = PyGDataLoader(train_dataset, batch_size=16, shuffle=True)\n",
        "val_loader = PyGDataLoader(val_dataset, batch_size=16, shuffle=False)\n",
        "\n",
        "print(f\"Loaded {len(train_files)} training files and {len(val_files)} validation files.\")\n"
      ]
    },
    {
      "cell_type": "code",
      "execution_count": null,
      "metadata": {
        "id": "8Kt0SOrRFer2",
        "outputId": "760c9a2c-d388-430f-cd6d-103f5b733d5b"
      },
      "outputs": [
        {
          "name": "stderr",
          "output_type": "stream",
          "text": [
            "WARNING:absl:Compiled the loaded model, but the compiled metrics have yet to be built. `model.compile_metrics` will be empty until you train or evaluate the model.\n"
          ]
        }
      ],
      "source": [
        "import torch\n",
        "import torch.nn as nn\n",
        "import torch.optim as optim\n",
        "from tensorflow.keras.models import load_model\n",
        "\n",
        "STAGE1_MODEL_PATH = 'stage_1_visible_model.h5'\n",
        "stage1_model = load_model(STAGE1_MODEL_PATH)\n",
        "\n",
        "input_dim = 3 + NUM_GATEWAYS * 3\n",
        "gnn_model = Stage2GNN(input_dim=input_dim, sat_feature_dim=111, neighbor_feature_dim=NUM_GATEWAYS,\n",
        "                      hidden_dim=256, output_dim=NUM_GATEWAYS)\n",
        "\n",
        "optimizer_gnn = optim.Adam(gnn_model.parameters(), lr=0.001)\n",
        "loss_fn = nn.CrossEntropyLoss()\n"
      ]
    },
    {
      "cell_type": "code",
      "execution_count": null,
      "metadata": {
        "id": "1tCw54-aFer3",
        "outputId": "bd0e9769-6d39-4569-ee48-5d3d3c1cfe44"
      },
      "outputs": [
        {
          "name": "stdout",
          "output_type": "stream",
          "text": [
            "Using device: cpu\n"
          ]
        }
      ],
      "source": [
        "device = torch.device(\"cuda\" if torch.cuda.is_available() else \"cpu\")\n",
        "print(\"Using device:\", device)\n"
      ]
    },
    {
      "cell_type": "code",
      "execution_count": null,
      "metadata": {
        "id": "GHeBy10XFer3",
        "outputId": "fb68e977-02ad-4e57-e424-7420573d8b86"
      },
      "outputs": [
        {
          "name": "stdout",
          "output_type": "stream",
          "text": [
            "Epoch 2, Train Loss: 3.9795, Val Loss: 3.9470\n"
          ]
        },
        {
          "ename": "KeyboardInterrupt",
          "evalue": "",
          "output_type": "error",
          "traceback": [
            "\u001b[1;31m---------------------------------------------------------------------------\u001b[0m",
            "\u001b[1;31mKeyboardInterrupt\u001b[0m                         Traceback (most recent call last)",
            "Cell \u001b[1;32mIn[5], line 1\u001b[0m\n\u001b[1;32m----> 1\u001b[0m results \u001b[38;5;241m=\u001b[39m \u001b[43mtrain_model_with_mse\u001b[49m\u001b[43m(\u001b[49m\n\u001b[0;32m      2\u001b[0m \u001b[43m    \u001b[49m\u001b[43mgnn_model\u001b[49m\u001b[38;5;241;43m=\u001b[39;49m\u001b[43mgnn_model\u001b[49m\u001b[43m,\u001b[49m\n\u001b[0;32m      3\u001b[0m \u001b[43m    \u001b[49m\u001b[43mstage1_model\u001b[49m\u001b[38;5;241;43m=\u001b[39;49m\u001b[43mstage1_model\u001b[49m\u001b[43m,\u001b[49m\n\u001b[0;32m      4\u001b[0m \u001b[43m    \u001b[49m\u001b[43mtrain_loader\u001b[49m\u001b[38;5;241;43m=\u001b[39;49m\u001b[43mtrain_loader\u001b[49m\u001b[43m,\u001b[49m\n\u001b[0;32m      5\u001b[0m \u001b[43m    \u001b[49m\u001b[43mval_loader\u001b[49m\u001b[38;5;241;43m=\u001b[39;49m\u001b[43mval_loader\u001b[49m\u001b[43m,\u001b[49m\n\u001b[0;32m      6\u001b[0m \u001b[43m    \u001b[49m\u001b[43mloss_fn\u001b[49m\u001b[38;5;241;43m=\u001b[39;49m\u001b[43mloss_fn\u001b[49m\u001b[43m,\u001b[49m\n\u001b[0;32m      7\u001b[0m \u001b[43m    \u001b[49m\u001b[43moptimizer_gnn\u001b[49m\u001b[38;5;241;43m=\u001b[39;49m\u001b[43moptimizer_gnn\u001b[49m\u001b[43m,\u001b[49m\n\u001b[0;32m      8\u001b[0m \u001b[43m    \u001b[49m\u001b[43mnum_epochs\u001b[49m\u001b[38;5;241;43m=\u001b[39;49m\u001b[38;5;241;43m10\u001b[39;49m\u001b[43m,\u001b[49m\n\u001b[0;32m      9\u001b[0m \u001b[43m    \u001b[49m\u001b[43mrounds\u001b[49m\u001b[38;5;241;43m=\u001b[39;49m\u001b[38;5;241;43m15\u001b[39;49m\n\u001b[0;32m     10\u001b[0m \u001b[43m)\u001b[49m\n\u001b[0;32m     12\u001b[0m (train_losses, val_losses,\n\u001b[0;32m     13\u001b[0m  train_top1_acc, train_top3_acc, train_top5_acc,\n\u001b[0;32m     14\u001b[0m  val_top1_acc, val_top3_acc, val_top5_acc) \u001b[38;5;241m=\u001b[39m results\n",
            "File \u001b[1;32mc:\\Users\\aruna\\Satelite_Network\\src\\train.py:32\u001b[0m, in \u001b[0;36mtrain_model_with_mse\u001b[1;34m(gnn_model, stage1_model, train_loader, val_loader, loss_fn, optimizer_gnn, num_epochs, rounds)\u001b[0m\n\u001b[0;32m     30\u001b[0m     preds_gnn_round \u001b[38;5;241m=\u001b[39m gnn_model(gnn_input_data\u001b[38;5;241m.\u001b[39mx, gnn_input_data\u001b[38;5;241m.\u001b[39medge_index)\n\u001b[0;32m     31\u001b[0m     top3_gnn_round \u001b[38;5;241m=\u001b[39m torch\u001b[38;5;241m.\u001b[39mtopk(preds_gnn_round, k\u001b[38;5;241m=\u001b[39m\u001b[38;5;241m3\u001b[39m, dim\u001b[38;5;241m=\u001b[39m\u001b[38;5;241m1\u001b[39m)\u001b[38;5;241m.\u001b[39mindices\n\u001b[1;32m---> 32\u001b[0m     gnn_input_data \u001b[38;5;241m=\u001b[39m \u001b[43mprepare_input_for_gnn\u001b[49m\u001b[43m(\u001b[49m\u001b[43mdata\u001b[49m\u001b[43m,\u001b[49m\u001b[43m \u001b[49m\u001b[43mtop3_gnn_round\u001b[49m\u001b[43m)\u001b[49m\n\u001b[0;32m     34\u001b[0m \u001b[38;5;66;03m# Loss calculation\u001b[39;00m\n\u001b[0;32m     35\u001b[0m cce_loss \u001b[38;5;241m=\u001b[39m loss_fn(preds_gnn_round, data\u001b[38;5;241m.\u001b[39my)\n",
            "File \u001b[1;32mc:\\Users\\aruna\\Satelite_Network\\src\\dataloader.py:46\u001b[0m, in \u001b[0;36mprepare_input_for_gnn\u001b[1;34m(data, top3_gateway_predictions)\u001b[0m\n\u001b[0;32m     44\u001b[0m \u001b[38;5;28;01mfor\u001b[39;00m i \u001b[38;5;129;01min\u001b[39;00m \u001b[38;5;28mrange\u001b[39m(updated_x\u001b[38;5;241m.\u001b[39msize(\u001b[38;5;241m0\u001b[39m)):\n\u001b[0;32m     45\u001b[0m     \u001b[38;5;28;01mfor\u001b[39;00m gateway_idx \u001b[38;5;129;01min\u001b[39;00m top3_gateway_predictions[i]:\n\u001b[1;32m---> 46\u001b[0m         expanded_predictions[i, gateway_idx] \u001b[38;5;241m=\u001b[39m \u001b[38;5;241m1\u001b[39m\n\u001b[0;32m     47\u001b[0m updated_x[:, \u001b[38;5;241m-\u001b[39mNUM_GATEWAYS:] \u001b[38;5;241m=\u001b[39m expanded_predictions\n\u001b[0;32m     48\u001b[0m \u001b[38;5;28;01mreturn\u001b[39;00m Data(x\u001b[38;5;241m=\u001b[39mupdated_x, edge_index\u001b[38;5;241m=\u001b[39mdata\u001b[38;5;241m.\u001b[39medge_index)\n",
            "\u001b[1;31mKeyboardInterrupt\u001b[0m: "
          ]
        }
      ],
      "source": [
        "results = train_model_with_mse(\n",
        "    gnn_model=gnn_model,\n",
        "    stage1_model=stage1_model,\n",
        "    train_loader=train_loader,\n",
        "    val_loader=val_loader,\n",
        "    loss_fn=loss_fn,\n",
        "    optimizer_gnn=optimizer_gnn,\n",
        "    num_epochs=10,\n",
        "    rounds=15\n",
        ")\n",
        "\n",
        "(train_losses, val_losses,\n",
        " train_top1_acc, train_top3_acc, train_top5_acc,\n",
        " val_top1_acc, val_top3_acc, val_top5_acc) = results\n"
      ]
    },
    {
      "cell_type": "code",
      "execution_count": null,
      "metadata": {
        "id": "Dxbno2XxFer4"
      },
      "outputs": [],
      "source": [
        "plot_metrics(train_losses, val_losses,\n",
        "             train_top1_acc, train_top3_acc, train_top5_acc,\n",
        "             val_top1_acc, val_top3_acc, val_top5_acc)\n",
        "\n",
        "# Save model\n",
        "torch.save(gnn_model.state_dict(), 'stage2_loop_gnn_model.pth')\n",
        "print(\"Model saved.\")\n"
      ]
    }
  ],
  "metadata": {
    "colab": {
      "provenance": [],
      "include_colab_link": true
    },
    "kernelspec": {
      "display_name": "Python 3",
      "name": "python3"
    },
    "language_info": {
      "codemirror_mode": {
        "name": "ipython",
        "version": 3
      },
      "file_extension": ".py",
      "mimetype": "text/x-python",
      "name": "python",
      "nbconvert_exporter": "python",
      "pygments_lexer": "ipython3",
      "version": "3.10.0"
    }
  },
  "nbformat": 4,
  "nbformat_minor": 0
}