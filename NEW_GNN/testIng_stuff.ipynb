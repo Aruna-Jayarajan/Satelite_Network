{
 "cells": [
  {
   "cell_type": "code",
   "execution_count": 6,
   "metadata": {},
   "outputs": [
    {
     "name": "stdout",
     "output_type": "stream",
     "text": [
      "Top 5 feed_sats by demand:\n",
      "     feed_sat  total_demand\n",
      "2           3    1626.66403\n",
      "95       1428    1620.03905\n",
      "101      1475    1618.26563\n",
      "96       1429    1617.56246\n",
      "87        548    1617.26568\n",
      "\n",
      "Bottom 5 feed_sats by demand:\n",
      "    feed_sat  total_demand\n",
      "86       527     118.81250\n",
      "52       299     113.40626\n",
      "68       390     112.96095\n",
      "60       345     111.64062\n",
      "65       368     109.40626\n",
      "\n",
      "Top 5 gateways by demand:\n",
      "    gw  total_demand\n",
      "44  44   1630.710930\n",
      "7    7   1628.171822\n",
      "40  40   1627.109340\n",
      "15  15   1626.664030\n",
      "8    8   1622.843700\n",
      "\n",
      "Bottom 5 gateways by demand:\n",
      "    gw  total_demand\n",
      "0    0    1601.57813\n",
      "23  23    1597.57810\n",
      "49  49    1596.19533\n",
      "3    3    1594.88286\n",
      "53  53    1591.71870\n"
     ]
    }
   ],
   "source": [
    "import pandas as pd\n",
    "\n",
    "# Load the CSV file\n",
    "file_path = r\"C:\\Users\\aruna\\Desktop\\MS Thesis\\Real Data\\Final folder real data\\file_data_00_20_00.csv\"\n",
    "df = pd.read_csv(file_path)\n",
    "\n",
    "# ----------------------------\n",
    "# Demand per unique feed_sat\n",
    "# ----------------------------\n",
    "feed_sat_demand = df.groupby('feed_sat')['demand'].sum().reset_index()\n",
    "feed_sat_demand.columns = ['feed_sat', 'total_demand']\n",
    "feed_sat_demand_sorted = feed_sat_demand.sort_values(by='total_demand', ascending=False)\n",
    "\n",
    "print(\"Top 5 feed_sats by demand:\")\n",
    "print(feed_sat_demand_sorted.head(5))\n",
    "\n",
    "print(\"\\nBottom 5 feed_sats by demand:\")\n",
    "print(feed_sat_demand_sorted.tail(5))\n",
    "\n",
    "# ----------------------------\n",
    "# Demand per unique gw\n",
    "# ----------------------------\n",
    "gw_demand = df.groupby('gw')['demand'].sum().reset_index()\n",
    "gw_demand.columns = ['gw', 'total_demand']\n",
    "gw_demand_sorted = gw_demand.sort_values(by='total_demand', ascending=False)\n",
    "\n",
    "print(\"\\nTop 5 gateways by demand:\")\n",
    "print(gw_demand_sorted.head(5))\n",
    "\n",
    "print(\"\\nBottom 5 gateways by demand:\")\n",
    "print(gw_demand_sorted.tail(5))\n"
   ]
  }
 ],
 "metadata": {
  "kernelspec": {
   "display_name": "Python 3",
   "language": "python",
   "name": "python3"
  },
  "language_info": {
   "codemirror_mode": {
    "name": "ipython",
    "version": 3
   },
   "file_extension": ".py",
   "mimetype": "text/x-python",
   "name": "python",
   "nbconvert_exporter": "python",
   "pygments_lexer": "ipython3",
   "version": "3.10.0"
  }
 },
 "nbformat": 4,
 "nbformat_minor": 2
}
