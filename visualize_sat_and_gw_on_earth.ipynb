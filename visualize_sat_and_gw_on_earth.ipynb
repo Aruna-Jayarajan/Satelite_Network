{
 "cells": [
  {
   "cell_type": "code",
   "execution_count": null,
   "metadata": {},
   "outputs": [],
   "source": [
    "import pandas as pd\n",
    "import matplotlib.pyplot as plt\n",
    "\n",
    "# File paths\n",
    "satellite_file_path = \"C:\\\\Users\\\\aruna\\\\Desktop\\\\MS Thesis\\\\Real Data\\\\Files with position\\\\optimal_file_data_00_00_00.csv\"\n",
    "gateway_file_path = \"C:\\\\Users\\\\aruna\\\\Desktop\\\\MS Thesis\\\\Real Data\\\\df_gw.csv\"\n",
    "\n",
    "# Load Satellite Data\n",
    "df_satellites = pd.read_csv(satellite_file_path)\n",
    "\n",
    "# Ensure only valid positions are used\n",
    "df_satellites = df_satellites[[\"feed_sat\", \"Latitude\", \"Longitude\", \"gw\"]]  # Keep relevant columns\n",
    "df_satellites = df_satellites.dropna()  # Remove any NaN values\n",
    "\n",
    "# Load Gateway Data\n",
    "df_gateways = pd.read_csv(gateway_file_path)\n",
    "\n",
    "# 🌍 **Plot 1: Satellites with Assigned Gateways**\n",
    "plt.figure(figsize=(10, 6))\n",
    "plt.scatter(df_satellites[\"Longitude\"], df_satellites[\"Latitude\"], color=\"blue\", label=\"Satellites\", s=50)\n",
    "for _, row in df_satellites.iterrows():\n",
    "    plt.text(row[\"Longitude\"] + 0.1, row[\"Latitude\"] + 0.1, f\"Sat {int(row['feed_sat'])}\\nGW {int(row['gw'])}\", fontsize=8, color=\"black\")\n",
    "\n",
    "plt.xlabel(\"Longitude\")\n",
    "plt.ylabel(\"Latitude\")\n",
    "plt.title(\"Satellite Locations with Assigned Gateways\")\n",
    "plt.legend([\"Satellites\"])\n",
    "plt.grid(True)\n",
    "plt.show()\n",
    "\n",
    "# 🛰️ **Plot 2: Gateways Only**\n",
    "plt.figure(figsize=(10, 6))\n",
    "plt.scatter(df_gateways[\"longitude\"], df_gateways[\"latitude\"], color=\"red\", s=100, label=\"Gateways\")\n",
    "for _, row in df_gateways.iterrows():\n",
    "    plt.text(row[\"longitude\"] + 0.1, row[\"latitude\"] + 0.1, f\"GW {int(row['gw_id'])}\", fontsize=8, color=\"black\")\n",
    "\n",
    "plt.xlabel(\"Longitude\")\n",
    "plt.ylabel(\"Latitude\")\n",
    "plt.title(\"Gateway Locations\")\n",
    "plt.legend([\"Gateways\"])\n",
    "plt.grid(True)\n",
    "plt.show()\n"
   ]
  }
 ],
 "metadata": {
  "language_info": {
   "name": "python"
  }
 },
 "nbformat": 4,
 "nbformat_minor": 2
}
